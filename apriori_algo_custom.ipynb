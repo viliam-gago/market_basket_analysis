{
 "cells": [
  {
   "cell_type": "code",
   "execution_count": 1,
   "metadata": {},
   "outputs": [],
   "source": [
    "import numpy as np\n",
    "from apriori_algo import *"
   ]
  },
  {
   "cell_type": "markdown",
   "metadata": {},
   "source": [
    "# SETTINGS "
   ]
  },
  {
   "cell_type": "code",
   "execution_count": 2,
   "metadata": {},
   "outputs": [],
   "source": [
    "path = 'data_algo.txt'\n",
    "order = ['I' + str(i) for i in range(1,6)]\n",
    "min_support = 2/9"
   ]
  },
  {
   "cell_type": "code",
   "execution_count": 3,
   "metadata": {
    "scrolled": true
   },
   "outputs": [
    {
     "data": {
      "text/plain": [
       "[['I1', 'I2', 'I5'],\n",
       " ['I2', 'I4'],\n",
       " ['I2', 'I3'],\n",
       " ['I1', 'I2', 'I4'],\n",
       " ['I1', 'I3'],\n",
       " ['I2', 'I3'],\n",
       " ['I1', 'I3'],\n",
       " ['I1', 'I2', 'I3', 'I5'],\n",
       " ['I1', 'I2', 'I3']]"
      ]
     },
     "execution_count": 3,
     "metadata": {},
     "output_type": "execute_result"
    }
   ],
   "source": [
    "transactions = load_transactions(path,order)\n",
    "num_trans = len(transactions)\n",
    "transactions"
   ]
  },
  {
   "cell_type": "markdown",
   "metadata": {},
   "source": [
    "## INITIALIZATION - Create L1 - First part of the loop"
   ]
  },
  {
   "cell_type": "code",
   "execution_count": 4,
   "metadata": {},
   "outputs": [],
   "source": [
    "# C - candidate itemsets\n",
    "# L - frequent itemsets\n",
    "\n",
    "C = {}\n",
    "L = {}\n",
    "itemset_size = 1\n",
    "discarded = {itemset_size: []}\n",
    "C.update({itemset_size : [ [f] for f in order]})"
   ]
  },
  {
   "cell_type": "code",
   "execution_count": 5,
   "metadata": {},
   "outputs": [],
   "source": [
    "supp_count_L = {}\n",
    "f, sup, new_discarded = get_frequent(C[itemset_size], transactions, min_support, discarded)\n",
    "discarded.update({itemset_size : new_discarded})\n",
    "L.update({itemset_size :f})\n",
    "supp_count_L.update({itemset_size : sup})"
   ]
  },
  {
   "cell_type": "markdown",
   "metadata": {},
   "source": [
    "## The rest of the loop"
   ]
  },
  {
   "cell_type": "code",
   "execution_count": 6,
   "metadata": {},
   "outputs": [
    {
     "name": "stdout",
     "output_type": "stream",
     "text": [
      "Table C1: \n",
      "\n",
      "Itemsets | Frequency\n",
      "['I1'] : 6\n",
      "['I2'] : 7\n",
      "['I3'] : 6\n",
      "['I4'] : 2\n",
      "['I5'] : 2\n",
      "\n",
      "\n",
      "\n",
      "Table L1: \n",
      "\n",
      "Itemsets | Frequency\n",
      "['I1'] : 6\n",
      "['I2'] : 7\n",
      "['I3'] : 6\n",
      "['I4'] : 2\n",
      "['I5'] : 2\n",
      "\n",
      "\n",
      "\n",
      "---------------------------------------------------------------\n",
      "Table C2: \n",
      "\n",
      "Itemsets | Frequency\n",
      "['I1', 'I2'] : 4\n",
      "['I1', 'I3'] : 4\n",
      "['I1', 'I4'] : 1\n",
      "['I1', 'I5'] : 2\n",
      "['I2', 'I3'] : 4\n",
      "['I2', 'I4'] : 2\n",
      "['I2', 'I5'] : 2\n",
      "['I3', 'I4'] : 0\n",
      "['I3', 'I5'] : 1\n",
      "['I4', 'I5'] : 0\n",
      "\n",
      "\n",
      "\n",
      "Table L2: \n",
      "\n",
      "Itemsets | Frequency\n",
      "['I1', 'I2'] : 4\n",
      "['I1', 'I3'] : 4\n",
      "['I1', 'I5'] : 1\n",
      "['I2', 'I3'] : 2\n",
      "['I2', 'I4'] : 4\n",
      "['I2', 'I5'] : 2\n",
      "\n",
      "\n",
      "\n",
      "---------------------------------------------------------------\n",
      "Table C3: \n",
      "\n",
      "Itemsets | Frequency\n",
      "['I1', 'I2', 'I3'] : 2\n",
      "['I1', 'I2', 'I5'] : 2\n",
      "['I1', 'I3', 'I5'] : 1\n",
      "['I2', 'I3', 'I4'] : 0\n",
      "['I2', 'I3', 'I5'] : 1\n",
      "['I2', 'I4', 'I5'] : 0\n",
      "\n",
      "\n",
      "\n",
      "Table L3: \n",
      "\n",
      "Itemsets | Frequency\n",
      "['I1', 'I2', 'I3'] : 2\n",
      "['I1', 'I2', 'I5'] : 2\n",
      "\n",
      "\n",
      "\n",
      "---------------------------------------------------------------\n",
      "Table C4: \n",
      "\n",
      "Itemsets | Frequency\n",
      "['I1', 'I2', 'I3', 'I5'] : 1\n",
      "\n",
      "\n",
      "\n"
     ]
    }
   ],
   "source": [
    "print(f'Table C{1}: \\n')\n",
    "print_table(C[1], [count_occurences(it, transactions) for it in C[1]])\n",
    "print(f'Table L{1}: \\n')\n",
    "print_table(L[1], [count_occurences(it, transactions) for it in C[1]])\n",
    "print('---------------------------------------------------------------')\n",
    "\n",
    "k = itemset_size + 1\n",
    "convergence = False\n",
    "while not convergence:\n",
    "    C.update({ k : join_set_itemsets(L[k-1], order) })\n",
    "    \n",
    "    print(f'Table C{k}: \\n')\n",
    "    print_table(C[k], [count_occurences(it, transactions) for it in C[k]])\n",
    "    \n",
    "    f, sup, new_discarded = get_frequent(C[k], transactions, min_support, discarded)\n",
    "    \n",
    "    discarded.update({k : new_discarded})\n",
    "    L.update({k : f})\n",
    "    supp_count_L.update({k : sup})\n",
    "    \n",
    "    if len(L[k]) == 0:\n",
    "        convergence = True\n",
    "    \n",
    "    else:\n",
    "        print(f'Table L{k}: \\n')\n",
    "        print_table(L[k], [count_occurences(it, transactions) for it in C[k]])\n",
    "        print('---------------------------------------------------------------')\n",
    "    \n",
    "    k+=1"
   ]
  },
  {
   "cell_type": "code",
   "execution_count": null,
   "metadata": {},
   "outputs": [],
   "source": []
  }
 ],
 "metadata": {
  "kernelspec": {
   "display_name": "Python 3",
   "language": "python",
   "name": "python3"
  },
  "language_info": {
   "codemirror_mode": {
    "name": "ipython",
    "version": 3
   },
   "file_extension": ".py",
   "mimetype": "text/x-python",
   "name": "python",
   "nbconvert_exporter": "python",
   "pygments_lexer": "ipython3",
   "version": "3.8.1"
  }
 },
 "nbformat": 4,
 "nbformat_minor": 4
}
